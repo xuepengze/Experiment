{
 "cells": [
  {
   "cell_type": "code",
   "execution_count": 1,
   "id": "5ab24f92-39bc-4aac-b275-e379f69c5e9a",
   "metadata": {},
   "outputs": [
    {
     "name": "stdout",
     "output_type": "stream",
     "text": [
      "Namespace(outf=None)\n"
     ]
    }
   ],
   "source": [
    "import argparse\n",
    "import sys\n",
    "\n",
    "def parse_args():\n",
    "    # 在 Jupyter 环境下，跳过 argparse 解析\n",
    "    if 'ipykernel_launcher' in sys.argv[0]:\n",
    "        sys.argv = sys.argv[:1]  # 只保留脚本名，不处理后续参数\n",
    "\n",
    "    parser = argparse.ArgumentParser(description=\"Your script description\")\n",
    "    parser.add_argument('--outf', type=str, help=\"Output file path\")\n",
    "    args = parser.parse_args()\n",
    "    return args\n",
    "\n",
    "args = parse_args()\n",
    "print(args)"
   ]
  },
  {
   "cell_type": "code",
   "execution_count": 2,
   "id": "8a660ea6-b2b0-4f6f-b6a1-cd143ebda892",
   "metadata": {},
   "outputs": [
    {
     "name": "stdout",
     "output_type": "stream",
     "text": [
      "训练数据形状: (50000, 3072)\n",
      "训练标签形状: (50000,)\n"
     ]
    }
   ],
   "source": [
    "import pickle\n",
    "import numpy as np\n",
    "\n",
    "def load_batch(file_path):\n",
    "    \"\"\"从文件中加载一个批次的数据\"\"\"\n",
    "    with open(file_path, 'rb') as f:\n",
    "        batch = pickle.load(f, encoding='bytes')\n",
    "        data = batch[b'data']\n",
    "        labels = batch[b'labels']\n",
    "        return data, labels\n",
    "\n",
    "# 加载所有批次\n",
    "data_list = []\n",
    "labels_list = []\n",
    "for i in range(1, 6):  # 5个训练批次\n",
    "    file_path = f'./data/cifar-10-batches-py/data_batch_{i}'\n",
    "    data, labels = load_batch(file_path)\n",
    "    data_list.append(data)\n",
    "    labels_list.append(labels)\n",
    "\n",
    "# 合并所有批次的数据\n",
    "train_data = np.concatenate(data_list, axis=0)\n",
    "train_labels = np.concatenate(labels_list, axis=0)\n",
    "\n",
    "print(f\"训练数据形状: {train_data.shape}\")  # (50000, 3072)\n",
    "print(f\"训练标签形状: {train_labels.shape}\")  # (50000,)"
   ]
  },
  {
   "cell_type": "code",
   "execution_count": 3,
   "id": "b89c6694-4d5f-4b59-8ab4-c5eac10c13eb",
   "metadata": {},
   "outputs": [],
   "source": [
    "import torch\n",
    "from torchvision import transforms\n",
    "\n",
    "# 假设 train_data 是 numpy 数组，train_labels 是标签数组\n",
    "# 将 train_data 转换为 PyTorch 张量并调整形状为 (N, C, H, W)\n",
    "train_data = torch.tensor(train_data, dtype=torch.float32).reshape(-1, 3, 32, 32) / 255.0\n",
    "train_labels = torch.tensor(train_labels, dtype=torch.long)\n",
    "\n",
    "# 定义数据预处理（Normalize 按通道归一化）\n",
    "transform = transforms.Normalize(mean=(0.4914, 0.4822, 0.4465), std=(0.2023, 0.1994, 0.2010))\n",
    "\n",
    "# 应用归一化（注意数据格式应为 [N, C, H, W]）\n",
    "train_data = transform(train_data)"
   ]
  },
  {
   "cell_type": "code",
   "execution_count": 5,
   "id": "54b2d7b4-451a-4670-b0f4-e98640692874",
   "metadata": {},
   "outputs": [
    {
     "name": "stdout",
     "output_type": "stream",
     "text": [
      "Using device: cuda\n",
      "Model loaded successfully from ./model/net_197.pth\n",
      "Calculating training set accuracy...\n"
     ]
    },
    {
     "name": "stderr",
     "output_type": "stream",
     "text": [
      "Processing Batches: 100%|██████████| 500/500 [00:07<00:00, 70.97it/s]"
     ]
    },
    {
     "name": "stdout",
     "output_type": "stream",
     "text": [
      "训练集准确率: 98.77%\n"
     ]
    },
    {
     "name": "stderr",
     "output_type": "stream",
     "text": [
      "\n"
     ]
    }
   ],
   "source": [
    "import os\n",
    "import torch\n",
    "from torch.utils.data import TensorDataset, DataLoader\n",
    "from resnet import ResNet18  # 确保您实现或导入了 ResNet18\n",
    "from tqdm import tqdm  # 用于显示进度条\n",
    "\n",
    "# 定义设备\n",
    "device = torch.device('cuda' if torch.cuda.is_available() else 'cpu')\n",
    "print(f\"Using device: {device}\")\n",
    "\n",
    "# 构造训练集 DataLoader\n",
    "# 假设 train_data 和 train_labels 已定义并正确处理\n",
    "train_dataset = TensorDataset(train_data, train_labels)\n",
    "train_loader = DataLoader(train_dataset, batch_size=100, shuffle=False)\n",
    "\n",
    "# 模型文件路径\n",
    "model_path = './model/net_197.pth'\n",
    "\n",
    "# 检查模型文件是否存在\n",
    "if not os.path.exists(model_path):\n",
    "    raise FileNotFoundError(f\"Model file not found: {model_path}\")\n",
    "\n",
    "# 加载模型\n",
    "net = ResNet18().to(device)  # 将模型移动到设备\n",
    "try:\n",
    "    net.load_state_dict(torch.load(model_path, map_location=device))\n",
    "    net.eval()  # 设置为评估模式\n",
    "    print(f\"Model loaded successfully from {model_path}\")\n",
    "except Exception as e:\n",
    "    print(f\"Error loading model: {e}\")\n",
    "    exit()\n",
    "\n",
    "# 计算训练集准确率\n",
    "correct = 0\n",
    "total = 0\n",
    "\n",
    "print(\"Calculating training set accuracy...\")\n",
    "with torch.no_grad():  # 禁用梯度计算\n",
    "    for inputs, labels in tqdm(train_loader, desc=\"Processing Batches\"):\n",
    "        # 将数据移动到设备\n",
    "        inputs, labels = inputs.to(device), labels.to(device)\n",
    "\n",
    "        # 模型前向传播\n",
    "        outputs = net(inputs)\n",
    "        _, predicted = torch.max(outputs.data, 1)  # 获取预测类别\n",
    "\n",
    "        # 累计正确数量和总数量\n",
    "        total += labels.size(0)\n",
    "        correct += (predicted == labels).sum().item()\n",
    "\n",
    "# 计算准确率\n",
    "train_acc = 100. * correct / total\n",
    "print(f\"训练集准确率: {train_acc:.2f}%\")"
   ]
  },
  {
   "cell_type": "code",
   "execution_count": null,
   "id": "ff2f43ea-7bfd-409a-9f51-a83531ce4672",
   "metadata": {},
   "outputs": [],
   "source": []
  }
 ],
 "metadata": {
  "kernelspec": {
   "display_name": "Python 3 (ipykernel)",
   "language": "python",
   "name": "python3"
  },
  "language_info": {
   "codemirror_mode": {
    "name": "ipython",
    "version": 3
   },
   "file_extension": ".py",
   "mimetype": "text/x-python",
   "name": "python",
   "nbconvert_exporter": "python",
   "pygments_lexer": "ipython3",
   "version": "3.12.3"
  }
 },
 "nbformat": 4,
 "nbformat_minor": 5
}
