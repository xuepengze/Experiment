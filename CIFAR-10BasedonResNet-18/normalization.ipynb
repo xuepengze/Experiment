{
 "cells": [
  {
   "cell_type": "code",
   "execution_count": 2,
   "metadata": {},
   "outputs": [
    {
     "name": "stdout",
     "output_type": "stream",
     "text": [
      "Files already downloaded and verified\n",
      "Files already downloaded and verified\n",
      "训练集均值: tensor([0.4914, 0.4822, 0.4465])\n",
      "训练集标准差: tensor([0.2466, 0.2431, 0.2610])\n",
      "测试集均值: tensor([0.4942, 0.4851, 0.4504])\n",
      "测试集标准差: tensor([0.2462, 0.2424, 0.2609])\n"
     ]
    }
   ],
   "source": [
    "import torch\n",
    "import torchvision\n",
    "import torchvision.transforms as transforms\n",
    "\n",
    "# 加载训练集和测试集\n",
    "trainset = torchvision.datasets.CIFAR10(root='./data', train=True, download=False, transform=transforms.ToTensor())\n",
    "testset = torchvision.datasets.CIFAR10(root='./data', train=False, download=True, transform=transforms.ToTensor())\n",
    "\n",
    "trainloader = torch.utils.data.DataLoader(trainset, batch_size=100, shuffle=False, num_workers=2)\n",
    "testloader = torch.utils.data.DataLoader(testset, batch_size=100, shuffle=False, num_workers=2)\n",
    "\n",
    "def calculate_stats(loader):\n",
    "    mean = torch.zeros(3)\n",
    "    std = torch.zeros(3)\n",
    "    total_images = 0\n",
    "    \n",
    "    for images, _ in loader:\n",
    "        for i in range(3):\n",
    "            mean[i] += images[:, i, :, :].mean()\n",
    "            std[i] += images[:, i, :, :].std()\n",
    "        total_images += 1\n",
    "    \n",
    "    mean /= total_images\n",
    "    std /= total_images\n",
    "    return mean, std\n",
    "\n",
    "# 计算训练集的均值和标准差\n",
    "train_mean, train_std = calculate_stats(trainloader)\n",
    "print(f\"训练集均值: {train_mean}\")\n",
    "print(f\"训练集标准差: {train_std}\")\n",
    "\n",
    "# 计算测试集的均值和标准差\n",
    "test_mean, test_std = calculate_stats(testloader)\n",
    "print(f\"测试集均值: {test_mean}\")\n",
    "print(f\"测试集标准差: {test_std}\")"
   ]
  },
  {
   "cell_type": "code",
   "execution_count": null,
   "metadata": {},
   "outputs": [],
   "source": []
  }
 ],
 "metadata": {
  "kernelspec": {
   "display_name": "Python 3 (ipykernel)",
   "language": "python",
   "name": "python3"
  },
  "language_info": {
   "codemirror_mode": {
    "name": "ipython",
    "version": 3
   },
   "file_extension": ".py",
   "mimetype": "text/x-python",
   "name": "python",
   "nbconvert_exporter": "python",
   "pygments_lexer": "ipython3",
   "version": "3.12.3"
  }
 },
 "nbformat": 4,
 "nbformat_minor": 4
}
