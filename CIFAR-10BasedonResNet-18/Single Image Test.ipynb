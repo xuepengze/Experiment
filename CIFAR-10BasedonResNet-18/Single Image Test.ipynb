{
 "cells": [
  {
   "cell_type": "code",
   "execution_count": 1,
   "id": "5fcc2519-f57a-46dc-b951-4b2071e0bf8f",
   "metadata": {},
   "outputs": [
    {
     "name": "stdout",
     "output_type": "stream",
     "text": [
      "Using device: cuda\n",
      "Files already downloaded and verified\n",
      "Model loaded successfully from ./model/net_197.pth\n"
     ]
    },
    {
     "data": {
      "image/png": "[encoded data removed]",
      "text/plain": [
       "<Figure size 640x480 with 1 Axes>"
      ]
     },
     "metadata": {},
     "output_type": "display_data"
    }
   ],
   "source": [
    "import os\n",
    "import torch\n",
    "import random\n",
    "import matplotlib.pyplot as plt\n",
    "import torchvision.transforms as transforms\n",
    "from torchvision.datasets import CIFAR10\n",
    "from resnet import ResNet18  # 确保 ResNet18 定义在 resnet.py 文件中\n",
    "\n",
    "# 定义设备\n",
    "device = torch.device('cuda' if torch.cuda.is_available() else 'cpu')\n",
    "print(f\"Using device: {device}\")\n",
    "\n",
    "# 定义数据集的预处理（与训练时保持一致）\n",
    "transform_test = transforms.Compose([\n",
    "    transforms.ToTensor(),\n",
    "    transforms.Normalize((0.4914, 0.4822, 0.4465), (0.2023, 0.1994, 0.2010))\n",
    "])\n",
    "\n",
    "# 加载测试数据集\n",
    "testset = CIFAR10(root='./data', train=False, download=True, transform=transform_test)\n",
    "\n",
    "# CIFAR-10 类别\n",
    "classes = ('plane', 'car', 'bird', 'cat', 'deer', 'dog', 'frog', 'horse', 'ship', 'truck')\n",
    "\n",
    "# 加载模型\n",
    "model_path = './model/net_197.pth'\n",
    "if not os.path.exists(model_path):\n",
    "    raise FileNotFoundError(f\"Model file not found: {model_path}\")\n",
    "\n",
    "model = ResNet18().to(device)\n",
    "try:\n",
    "    model.load_state_dict(torch.load(model_path, map_location=device))\n",
    "    model.eval()  # 设置为评估模式\n",
    "    print(f\"Model loaded successfully from {model_path}\")\n",
    "except Exception as e:\n",
    "    print(f\"Error loading model: {e}\")\n",
    "    exit()\n",
    "\n",
    "# 随机选择一张测试图像\n",
    "index = random.randint(0, len(testset) - 1)\n",
    "image, true_label = testset[index]\n",
    "\n",
    "# 数据需要扩展一个批次维度，并移动到设备上\n",
    "image = image.unsqueeze(0).to(device)\n",
    "\n",
    "# 进行预测\n",
    "with torch.no_grad():\n",
    "    output = model(image)\n",
    "    _, predicted_label = torch.max(output, 1)\n",
    "\n",
    "# 将图像数据转换回原始格式（取消归一化）\n",
    "unnormalize = transforms.Normalize(\n",
    "    mean=[-0.4914 / 0.2023, -0.4822 / 0.1994, -0.4465 / 0.2010],\n",
    "    std=[1 / 0.2023, 1 / 0.1994, 1 / 0.2010]\n",
    ")\n",
    "image = unnormalize(image.squeeze(0).cpu()).numpy().transpose((1, 2, 0))\n",
    "image = (image - image.min()) / (image.max() - image.min())  # 将像素值归一化到 [0, 1]\n",
    "\n",
    "# 显示图像及其预测结果\n",
    "plt.imshow(image)\n",
    "plt.title(f\"True class: {classes[true_label]}, Prediction class: {classes[predicted_label.item()]}\")\n",
    "plt.axis('off')\n",
    "plt.show()"
   ]
  },
  {
   "cell_type": "code",
   "execution_count": null,
   "id": "4c118b96-d404-49c5-8840-88f2683a20f2",
   "metadata": {},
   "outputs": [],
   "source": []
  }
 ],
 "metadata": {
  "kernelspec": {
   "display_name": "Python 3 (ipykernel)",
   "language": "python",
   "name": "python3"
  },
  "language_info": {
   "codemirror_mode": {
    "name": "ipython",
    "version": 3
   },
   "file_extension": ".py",
   "mimetype": "text/x-python",
   "name": "python",
   "nbconvert_exporter": "python",
   "pygments_lexer": "ipython3",
   "version": "3.12.4"
  }
 },
 "nbformat": 4,
 "nbformat_minor": 5
}
